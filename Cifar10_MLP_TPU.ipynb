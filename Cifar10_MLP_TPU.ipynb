{
  "nbformat": 4,
  "nbformat_minor": 0,
  "metadata": {
    "colab": {
      "name": "Cifar10 - MLP_TPU",
      "version": "0.3.2",
      "provenance": [],
      "collapsed_sections": [],
      "include_colab_link": true
    },
    "kernelspec": {
      "name": "python3",
      "display_name": "Python 3"
    },
    "accelerator": "TPU"
  },
  "cells": [
    {
      "cell_type": "markdown",
      "metadata": {
        "id": "view-in-github",
        "colab_type": "text"
      },
      "source": [
        "<a href=\"https://colab.research.google.com/github/paul028/myJupyterNotebook/blob/master/Cifar10_MLP_TPU.ipynb\" target=\"_parent\"><img src=\"https://colab.research.google.com/assets/colab-badge.svg\" alt=\"Open In Colab\"/></a>"
      ]
    },
    {
      "metadata": {
        "id": "52gGWa5i5P1e",
        "colab_type": "text"
      },
      "cell_type": "markdown",
      "source": [
        "**Image Classifier based on CIFAR10 Dataset using Multilayer Perceptron Neural Network**\n"
      ]
    },
    {
      "metadata": {
        "id": "fgZlUqYW5rGm",
        "colab_type": "text"
      },
      "cell_type": "markdown",
      "source": [
        "1. Import all the Necessary Libraries"
      ]
    },
    {
      "metadata": {
        "id": "fkQ6HZJq5lC2",
        "colab_type": "code",
        "colab": {}
      },
      "cell_type": "code",
      "source": [
        "#!pip3 install livelossplot\n",
        "from __future__ import absolute_import\n",
        "from __future__ import division\n",
        "from __future__ import print_function\n",
        "\n",
        "import tensorflow as tf\n",
        "import numpy as np\n",
        "from tensorflow.keras.models import Sequential\n",
        "from tensorflow.keras.preprocessing.image import ImageDataGenerator\n",
        "from tensorflow.keras.layers import Dense, Activation, Dropout, Flatten, BatchNormalization\n",
        "from tensorflow.keras.utils import to_categorical, plot_model\n",
        "from tensorflow.keras.datasets import cifar10\n",
        "from tensorflow.keras import regularizers\n",
        "from tensorflow.keras.callbacks import LearningRateScheduler\n",
        "import matplotlib.pyplot as plt\n",
        "from scipy.misc import toimage\n",
        "import os"
      ],
      "execution_count": 0,
      "outputs": []
    },
    {
      "metadata": {
        "id": "uYARDlUM5unO",
        "colab_type": "text"
      },
      "cell_type": "markdown",
      "source": [
        "2. Call the Address of the TPU"
      ]
    },
    {
      "metadata": {
        "id": "eE1pPr1S52bf",
        "colab_type": "code",
        "colab": {}
      },
      "cell_type": "code",
      "source": [
        "# This address identifies the TPU we'll use when configuring TensorFlow.\n",
        "TPU_WORKER = 'grpc://' + os.environ['COLAB_TPU_ADDR']\n",
        "tf.logging.set_verbosity(tf.logging.INFO)"
      ],
      "execution_count": 0,
      "outputs": []
    },
    {
      "metadata": {
        "id": "cCSAPA5m56C_",
        "colab_type": "text"
      },
      "cell_type": "markdown",
      "source": [
        "3. Prepare the Dataset"
      ]
    },
    {
      "metadata": {
        "id": "Gbg1m29g6DU3",
        "colab_type": "code",
        "outputId": "00a4e511-9e9c-48c0-f8e7-e1a88f3d8987",
        "colab": {
          "base_uri": "https://localhost:8080/",
          "height": 102
        }
      },
      "cell_type": "code",
      "source": [
        "#load CIFAR10 dataset\n",
        "(x_train, y_train), (x_test, y_test) = cifar10.load_data()\n",
        "\n",
        "# one-hot encode the labels\n",
        "num_labels = len(np.unique(y_train))\n",
        "\n",
        "#convert to one-hot vector\n",
        "y_train = to_categorical(y_train)\n",
        "y_test = to_categorical(y_test)\n",
        "    \n",
        "# image dimensions (assumed square)\n",
        "image_size = x_train.shape[1]\n",
        "input_size = image_size * image_size\n",
        "\n",
        "x_train = x_train.astype('float32')\n",
        "x_test = x_test.astype('float32')\n",
        "# rescale [0,255] --> [0,1]\n",
        "# resize and normalize\n",
        "#x_train = np.reshape(x_train, [-1, input_size*3])\n",
        "#x_train = x_train.astype('float32') / 255\n",
        "#x_test = np.reshape(x_test, [-1, input_size*3])\n",
        "#x_test = x_test.astype('float32') / 255\n",
        "\n",
        "\n",
        "# print shape of training set\n",
        "print('x_train shape:', x_train.shape)\n",
        "# print number of training, validation, and test images\n",
        "print(x_train.shape[0], 'train samples')\n",
        "print(x_test.shape[0], 'test samples')"
      ],
      "execution_count": 0,
      "outputs": [
        {
          "output_type": "stream",
          "text": [
            "Downloading data from https://www.cs.toronto.edu/~kriz/cifar-10-python.tar.gz\n",
            "170500096/170498071 [==============================] - 37s 0us/step\n",
            "x_train shape: (50000, 32, 32, 3)\n",
            "50000 train samples\n",
            "10000 test samples\n"
          ],
          "name": "stdout"
        }
      ]
    },
    {
      "metadata": {
        "id": "QlVPyzY174o_",
        "colab_type": "text"
      },
      "cell_type": "markdown",
      "source": [
        "4. Dataset Augmentation"
      ]
    },
    {
      "metadata": {
        "id": "deBtxfGB79P4",
        "colab_type": "code",
        "outputId": "86ed8ebc-2ede-4513-9bc0-379eef3ccba9",
        "colab": {
          "base_uri": "https://localhost:8080/",
          "height": 418
        }
      },
      "cell_type": "code",
      "source": [
        "#data augmentation\n",
        "datagen = ImageDataGenerator(\n",
        "    rotation_range=15,\n",
        "    width_shift_range=0.1,\n",
        "    height_shift_range=0.1,\n",
        "    horizontal_flip=True,\n",
        "    )\n",
        "datagen.fit(x_train)\n",
        "\n",
        "for X_batch, y_batch in datagen.flow(x_train, y_train, batch_size=128):\n",
        "    # Show 9 images\n",
        "    for i in range(0, 9):\n",
        "        plt.subplot(330 + 1 + i)\n",
        "        plt.imshow(toimage(X_batch[i].reshape(32, 32, 3)))\n",
        "    # show the plot\n",
        "    plt.show()\n",
        "    break"
      ],
      "execution_count": 0,
      "outputs": [
        {
          "output_type": "stream",
          "text": [
            "/usr/local/lib/python3.6/dist-packages/ipykernel_launcher.py:13: DeprecationWarning: `toimage` is deprecated!\n",
            "`toimage` is deprecated in SciPy 1.0.0, and will be removed in 1.2.0.\n",
            "Use Pillow's ``Image.fromarray`` directly instead.\n",
            "  del sys.path[0]\n"
          ],
          "name": "stderr"
        },
        {
          "output_type": "display_data",
          "data": {
            "image/png": "[encoded data removed]",
            "text/plain": [
              "<Figure size 576x396 with 9 Axes>"
            ]
          },
          "metadata": {
            "tags": []
          }
        }
      ]
    },
    {
      "metadata": {
        "id": "JU5k4Cvg6TQG",
        "colab_type": "text"
      },
      "cell_type": "markdown",
      "source": [
        "5. Initialize the Parameters"
      ]
    },
    {
      "metadata": {
        "id": "z3l-16Bx6Zn3",
        "colab_type": "code",
        "colab": {}
      },
      "cell_type": "code",
      "source": [
        "batch_size = 128 #128\n",
        "hidden_units = 1024\n",
        "dropout = 0.2\n",
        "weight_decay = 1e-4"
      ],
      "execution_count": 0,
      "outputs": []
    },
    {
      "metadata": {
        "id": "BACqQSKu6tP3",
        "colab_type": "text"
      },
      "cell_type": "markdown",
      "source": [
        "6. Prepare the Model"
      ]
    },
    {
      "metadata": {
        "id": "gGcqXvu-6whA",
        "colab_type": "code",
        "outputId": "3d70f65f-480a-409a-f8f2-ab061a96bc18",
        "colab": {
          "base_uri": "https://localhost:8080/",
          "height": 768
        }
      },
      "cell_type": "code",
      "source": [
        "model = Sequential()\n",
        "\n",
        "model.add(Flatten(input_shape = x_train.shape[1:]))\n",
        "#3 Hidden Layer MLP with Batch Normalization and Dropout\n",
        "model.add(Dense(hidden_units,kernel_regularizer=regularizers.l2(weight_decay)))\n",
        "model.add(Activation('relu'))\n",
        "model.add(BatchNormalization())\n",
        "model.add(Dropout(dropout))\n",
        "\n",
        "model.add(Dense(hidden_units, kernel_regularizer=regularizers.l2(weight_decay)))\n",
        "model.add(Activation('relu'))\n",
        "model.add(BatchNormalization())\n",
        "model.add(Dropout(dropout))\n",
        "\n",
        "model.add(Dense(hidden_units,kernel_regularizer=regularizers.l2(weight_decay)))\n",
        "model.add(Activation('relu'))\n",
        "model.add(BatchNormalization())\n",
        "model.add(Dropout(dropout))\n",
        "\n",
        "#output layer\n",
        "model.add(Dense(num_labels))\n",
        "model.add(Activation('softmax')) \n",
        "\n",
        "model.summary()\n",
        "plot_model(model,to_file='mlp-CIFAR10.png',show_shapes=True)\n",
        "\n",
        "opt_rms = tf.keras.optimizers.RMSprop(lr=0.001,decay=1e-6)\n",
        "model.compile(loss='categorical_crossentropy',optimizer=opt_rms,metrics=['accuracy'])"
      ],
      "execution_count": 0,
      "outputs": [
        {
          "output_type": "stream",
          "text": [
            "WARNING:tensorflow:From /usr/local/lib/python3.6/dist-packages/tensorflow/python/ops/resource_variable_ops.py:435: colocate_with (from tensorflow.python.framework.ops) is deprecated and will be removed in a future version.\n",
            "Instructions for updating:\n",
            "Colocations handled automatically by placer.\n",
            "WARNING:tensorflow:From /usr/local/lib/python3.6/dist-packages/tensorflow/python/keras/layers/core.py:143: calling dropout (from tensorflow.python.ops.nn_ops) with keep_prob is deprecated and will be removed in a future version.\n",
            "Instructions for updating:\n",
            "Please use `rate` instead of `keep_prob`. Rate should be set to `rate = 1 - keep_prob`.\n",
            "_________________________________________________________________\n",
            "Layer (type)                 Output Shape              Param #   \n",
            "=================================================================\n",
            "flatten (Flatten)            (None, 3072)              0         \n",
            "_________________________________________________________________\n",
            "dense (Dense)                (None, 1024)              3146752   \n",
            "_________________________________________________________________\n",
            "activation (Activation)      (None, 1024)              0         \n",
            "_________________________________________________________________\n",
            "batch_normalization_v1 (Batc (None, 1024)              4096      \n",
            "_________________________________________________________________\n",
            "dropout (Dropout)            (None, 1024)              0         \n",
            "_________________________________________________________________\n",
            "dense_1 (Dense)              (None, 1024)              1049600   \n",
            "_________________________________________________________________\n",
            "activation_1 (Activation)    (None, 1024)              0         \n",
            "_________________________________________________________________\n",
            "batch_normalization_v1_1 (Ba (None, 1024)              4096      \n",
            "_________________________________________________________________\n",
            "dropout_1 (Dropout)          (None, 1024)              0         \n",
            "_________________________________________________________________\n",
            "dense_2 (Dense)              (None, 1024)              1049600   \n",
            "_________________________________________________________________\n",
            "activation_2 (Activation)    (None, 1024)              0         \n",
            "_________________________________________________________________\n",
            "batch_normalization_v1_2 (Ba (None, 1024)              4096      \n",
            "_________________________________________________________________\n",
            "dropout_2 (Dropout)          (None, 1024)              0         \n",
            "_________________________________________________________________\n",
            "dense_3 (Dense)              (None, 10)                10250     \n",
            "_________________________________________________________________\n",
            "activation_3 (Activation)    (None, 10)                0         \n",
            "=================================================================\n",
            "Total params: 5,268,490\n",
            "Trainable params: 5,262,346\n",
            "Non-trainable params: 6,144\n",
            "_________________________________________________________________\n"
          ],
          "name": "stdout"
        }
      ]
    },
    {
      "metadata": {
        "id": "hi32dE4M8H0o",
        "colab_type": "text"
      },
      "cell_type": "markdown",
      "source": [
        "7. Define a Function for Changing Learning Rate"
      ]
    },
    {
      "metadata": {
        "id": "nHOl8bq28NZ4",
        "colab_type": "code",
        "colab": {}
      },
      "cell_type": "code",
      "source": [
        "\n",
        "def lr_schedule(epoch):\n",
        "    lrate = 0.001\n",
        "    if epoch > 75:\n",
        "        lrate = 0.0005\n",
        "    if epoch > 100:\n",
        "        lrate = 0.0003\n",
        "    return lrate"
      ],
      "execution_count": 0,
      "outputs": []
    },
    {
      "metadata": {
        "id": "BwX_4sL18XVm",
        "colab_type": "text"
      },
      "cell_type": "markdown",
      "source": [
        "8. convert the keras model to TPU model"
      ]
    },
    {
      "metadata": {
        "id": "St3ZIUEd8rqh",
        "colab_type": "code",
        "outputId": "d4ce88bb-ac93-4cdc-87fb-ecc6806c71d9",
        "colab": {
          "base_uri": "https://localhost:8080/",
          "height": 479
        }
      },
      "cell_type": "code",
      "source": [
        "tpu_model = tf.contrib.tpu.keras_to_tpu_model(\n",
        "model,\n",
        "strategy=tf.contrib.tpu.TPUDistributionStrategy(\n",
        "    tf.contrib.cluster_resolver.TPUClusterResolver(TPU_WORKER)))"
      ],
      "execution_count": 0,
      "outputs": [
        {
          "output_type": "stream",
          "text": [
            "\n",
            "WARNING: The TensorFlow contrib module will not be included in TensorFlow 2.0.\n",
            "For more information, please see:\n",
            "  * https://github.com/tensorflow/community/blob/master/rfcs/20180907-contrib-sunset.md\n",
            "  * https://github.com/tensorflow/addons\n",
            "If you depend on functionality not listed there, please file an issue.\n",
            "\n",
            "INFO:tensorflow:Querying Tensorflow master (grpc://10.67.212.154:8470) for TPU system metadata.\n",
            "INFO:tensorflow:Found TPU system:\n",
            "INFO:tensorflow:*** Num TPU Cores: 8\n",
            "INFO:tensorflow:*** Num TPU Workers: 1\n",
            "INFO:tensorflow:*** Num TPU Cores Per Worker: 8\n",
            "INFO:tensorflow:*** Available Device: _DeviceAttributes(/job:worker/replica:0/task:0/device:CPU:0, CPU, -1, 8969509305344894914)\n",
            "INFO:tensorflow:*** Available Device: _DeviceAttributes(/job:worker/replica:0/task:0/device:XLA_CPU:0, XLA_CPU, 17179869184, 6048440157279187185)\n",
            "INFO:tensorflow:*** Available Device: _DeviceAttributes(/job:worker/replica:0/task:0/device:TPU:0, TPU, 17179869184, 6377082180396626634)\n",
            "INFO:tensorflow:*** Available Device: _DeviceAttributes(/job:worker/replica:0/task:0/device:TPU:1, TPU, 17179869184, 3972783004755636068)\n",
            "INFO:tensorflow:*** Available Device: _DeviceAttributes(/job:worker/replica:0/task:0/device:TPU:2, TPU, 17179869184, 740783831808386675)\n",
            "INFO:tensorflow:*** Available Device: _DeviceAttributes(/job:worker/replica:0/task:0/device:TPU:3, TPU, 17179869184, 4552942141305249539)\n",
            "INFO:tensorflow:*** Available Device: _DeviceAttributes(/job:worker/replica:0/task:0/device:TPU:4, TPU, 17179869184, 5536223532564347261)\n",
            "INFO:tensorflow:*** Available Device: _DeviceAttributes(/job:worker/replica:0/task:0/device:TPU:5, TPU, 17179869184, 16293337880407220855)\n",
            "INFO:tensorflow:*** Available Device: _DeviceAttributes(/job:worker/replica:0/task:0/device:TPU:6, TPU, 17179869184, 11934073144755979135)\n",
            "INFO:tensorflow:*** Available Device: _DeviceAttributes(/job:worker/replica:0/task:0/device:TPU:7, TPU, 17179869184, 14277579645799602773)\n",
            "INFO:tensorflow:*** Available Device: _DeviceAttributes(/job:worker/replica:0/task:0/device:TPU_SYSTEM:0, TPU_SYSTEM, 17179869184, 5313414325401097121)\n",
            "WARNING:tensorflow:tpu_model (from tensorflow.contrib.tpu.python.tpu.keras_support) is experimental and may change or be removed at any time, and without warning.\n",
            "INFO:tensorflow:Cloning RMSprop {'lr': 0.0010000000474974513, 'rho': 0.8999999761581421, 'decay': 9.999999974752427e-07, 'epsilon': 1e-07}\n",
            "INFO:tensorflow:Cloning RMSprop {'lr': 0.0010000000474974513, 'rho': 0.8999999761581421, 'decay': 9.999999974752427e-07, 'epsilon': 1e-07}\n"
          ],
          "name": "stdout"
        }
      ]
    },
    {
      "metadata": {
        "id": "aO9daYGD8vLY",
        "colab_type": "text"
      },
      "cell_type": "markdown",
      "source": [
        "9. Train the Network"
      ]
    },
    {
      "metadata": {
        "id": "3zUOs73R8uVp",
        "colab_type": "code",
        "outputId": "badbc34f-b9c8-44d7-a308-786bfb3bde98",
        "colab": {
          "base_uri": "https://localhost:8080/",
          "height": 7041
        }
      },
      "cell_type": "code",
      "source": [
        "history =tpu_model.fit_generator(datagen.flow(x_train, y_train, batch_size=batch_size),\\\n",
        "                    steps_per_epoch=x_train.shape[0] // batch_size,epochs=125,\\\n",
        "                    verbose=1,validation_data=(x_test,y_test),callbacks=[LearningRateScheduler(lr_schedule)])\n",
        "\n",
        "#print(history)"
      ],
      "execution_count": 0,
      "outputs": [
        {
          "output_type": "stream",
          "text": [
            "Epoch 1/125\n",
            "INFO:tensorflow:New input shapes; (re-)compiling: mode=train (# of cores 8), [TensorSpec(shape=(16,), dtype=tf.int32, name='core_id0'), TensorSpec(shape=(16, 32, 32, 3), dtype=tf.float32, name='flatten_input_10'), TensorSpec(shape=(16, 10), dtype=tf.float32, name='activation_3_target_30')]\n",
            "INFO:tensorflow:Overriding default placeholder.\n",
            "INFO:tensorflow:Cloning RMSprop {'lr': 0.0010000000474974513, 'rho': 0.8999999761581421, 'decay': 9.999999974752427e-07, 'epsilon': 1e-07}\n",
            "INFO:tensorflow:Remapping placeholder for flatten_input\n",
            "WARNING:tensorflow:From /usr/local/lib/python3.6/dist-packages/tensorflow/contrib/tpu/python/tpu/keras_support.py:302: to_float (from tensorflow.python.ops.math_ops) is deprecated and will be removed in a future version.\n",
            "Instructions for updating:\n",
            "Use tf.cast instead.\n",
            "INFO:tensorflow:KerasCrossShard: <tensorflow.python.keras.optimizers.RMSprop object at 0x7fe798137828> []\n",
            "WARNING:tensorflow:From /usr/local/lib/python3.6/dist-packages/tensorflow/python/ops/math_ops.py:3066: to_int32 (from tensorflow.python.ops.math_ops) is deprecated and will be removed in a future version.\n",
            "Instructions for updating:\n",
            "Use tf.cast instead.\n",
            "INFO:tensorflow:Started compiling\n",
            "INFO:tensorflow:Finished compiling. Time elapsed: 4.189309120178223 secs\n",
            "INFO:tensorflow:Setting weights on TPU model.\n",
            "INFO:tensorflow:CPU -> TPU lr: 0.0010000000474974513 {0.001}\n",
            "INFO:tensorflow:CPU -> TPU rho: 0.8999999761581421 {0.9}\n",
            "INFO:tensorflow:CPU -> TPU decay: 9.999999974752427e-07 {1e-06}\n",
            "WARNING:tensorflow:Cannot update non-variable config: epsilon\n",
            "106/391 [=======>......................] - ETA: 45s - loss: 2.8593 - acc: 0.2302INFO:tensorflow:New input shapes; (re-)compiling: mode=train (# of cores 8), [TensorSpec(shape=(10,), dtype=tf.int32, name='core_id0'), TensorSpec(shape=(10, 32, 32, 3), dtype=tf.float32, name='flatten_input_10'), TensorSpec(shape=(10, 10), dtype=tf.float32, name='activation_3_target_30')]\n",
            "INFO:tensorflow:Overriding default placeholder.\n",
            "INFO:tensorflow:Remapping placeholder for flatten_input\n",
            "INFO:tensorflow:KerasCrossShard: <tensorflow.python.keras.optimizers.RMSprop object at 0x7fe798137828> [<tensorflow.contrib.tpu.python.tpu.keras_tpu_variables.ReplicatedVariable object at 0x7fe796b78ac8>, <tensorflow.contrib.tpu.python.tpu.keras_tpu_variables.ReplicatedVariable object at 0x7fe796b78f28>, <tensorflow.contrib.tpu.python.tpu.keras_tpu_variables.ReplicatedVariable object at 0x7fe796ba0a58>, <tensorflow.contrib.tpu.python.tpu.keras_tpu_variables.ReplicatedVariable object at 0x7fe796b5e6a0>, <tensorflow.contrib.tpu.python.tpu.keras_tpu_variables.ReplicatedVariable object at 0x7fe796aa8f98>, <tensorflow.contrib.tpu.python.tpu.keras_tpu_variables.ReplicatedVariable object at 0x7fe796a967b8>, <tensorflow.contrib.tpu.python.tpu.keras_tpu_variables.ReplicatedVariable object at 0x7fe796a61a20>, <tensorflow.contrib.tpu.python.tpu.keras_tpu_variables.ReplicatedVariable object at 0x7fe7969a8668>, <tensorflow.contrib.tpu.python.tpu.keras_tpu_variables.ReplicatedVariable object at 0x7fe796971f98>, <tensorflow.contrib.tpu.python.tpu.keras_tpu_variables.ReplicatedVariable object at 0x7fe7969607b8>, <tensorflow.contrib.tpu.python.tpu.keras_tpu_variables.ReplicatedVariable object at 0x7fe7968aaa20>, <tensorflow.contrib.tpu.python.tpu.keras_tpu_variables.ReplicatedVariable object at 0x7fe796873668>, <tensorflow.contrib.tpu.python.tpu.keras_tpu_variables.ReplicatedVariable object at 0x7fe79683af98>, <tensorflow.contrib.tpu.python.tpu.keras_tpu_variables.ReplicatedVariable object at 0x7fe7967a97b8>]\n",
            "INFO:tensorflow:Started compiling\n",
            "INFO:tensorflow:Finished compiling. Time elapsed: 3.9129693508148193 secs\n",
            "390/391 [============================>.] - ETA: 0s - loss: 2.5082 - acc: 0.2582INFO:tensorflow:New input shapes; (re-)compiling: mode=eval (# of cores 8), [TensorSpec(shape=(16,), dtype=tf.int32, name='core_id_10'), TensorSpec(shape=(16, 32, 32, 3), dtype=tf.float32, name='flatten_input_10'), TensorSpec(shape=(16, 10), dtype=tf.float32, name='activation_3_target_30')]\n",
            "INFO:tensorflow:Overriding default placeholder.\n",
            "INFO:tensorflow:Cloning RMSprop {'lr': 0.0010000000474974513, 'rho': 0.8999999761581421, 'decay': 9.999999974752427e-07, 'epsilon': 1e-07}\n",
            "INFO:tensorflow:Remapping placeholder for flatten_input\n",
            "INFO:tensorflow:KerasCrossShard: <tensorflow.python.keras.optimizers.RMSprop object at 0x7fe794c23f98> []\n",
            "INFO:tensorflow:Started compiling\n",
            "INFO:tensorflow:Finished compiling. Time elapsed: 2.351534605026245 secs\n",
            " 9600/10000 [===========================>..] - ETA: 0s - loss: 2.4569 - acc: 0.3006INFO:tensorflow:New input shapes; (re-)compiling: mode=eval (# of cores 8), [TensorSpec(shape=(2,), dtype=tf.int32, name='core_id_10'), TensorSpec(shape=(2, 32, 32, 3), dtype=tf.float32, name='flatten_input_10'), TensorSpec(shape=(2, 10), dtype=tf.float32, name='activation_3_target_30')]\n",
            "INFO:tensorflow:Overriding default placeholder.\n",
            "INFO:tensorflow:Remapping placeholder for flatten_input\n",
            "INFO:tensorflow:KerasCrossShard: <tensorflow.python.keras.optimizers.RMSprop object at 0x7fe794c23f98> []\n",
            "INFO:tensorflow:Started compiling\n",
            "INFO:tensorflow:Finished compiling. Time elapsed: 1.4540681838989258 secs\n",
            "10000/10000 [==============================] - 7s 690us/sample - loss: 2.4550 - acc: 0.3001\n",
            "391/391 [==============================] - 49s 126ms/step - loss: 2.5079 - acc: 0.2582 - val_loss: 2.4599 - val_acc: 0.3001\n",
            "Epoch 2/125\n",
            "10000/10000 [==============================] - 1s 134us/sample - loss: 2.3568 - acc: 0.2792\n",
            "391/391 [==============================] - 24s 61ms/step - loss: 2.1755 - acc: 0.3029 - val_loss: 2.3589 - val_acc: 0.2792\n",
            "Epoch 3/125\n",
            "10000/10000 [==============================] - 1s 135us/sample - loss: 2.0395 - acc: 0.3322\n",
            "391/391 [==============================] - 25s 63ms/step - loss: 2.0500 - acc: 0.3250 - val_loss: 2.0425 - val_acc: 0.3322\n",
            "Epoch 4/125\n",
            "10000/10000 [==============================] - 1s 138us/sample - loss: 2.1612 - acc: 0.3014\n",
            "391/391 [==============================] - 24s 61ms/step - loss: 1.9811 - acc: 0.3358 - val_loss: 2.1602 - val_acc: 0.3014\n",
            "Epoch 5/125\n",
            "10000/10000 [==============================] - 1s 136us/sample - loss: 2.0989 - acc: 0.3212\n",
            "391/391 [==============================] - 24s 61ms/step - loss: 1.9363 - acc: 0.3478 - val_loss: 2.0999 - val_acc: 0.3212\n",
            "Epoch 6/125\n",
            "10000/10000 [==============================] - 1s 134us/sample - loss: 2.1255 - acc: 0.3121\n",
            "391/391 [==============================] - 24s 61ms/step - loss: 1.9022 - acc: 0.3564 - val_loss: 2.1271 - val_acc: 0.3121\n",
            "Epoch 7/125\n",
            "10000/10000 [==============================] - 1s 133us/sample - loss: 1.9688 - acc: 0.3476\n",
            "391/391 [==============================] - 24s 61ms/step - loss: 1.8711 - acc: 0.3654 - val_loss: 1.9662 - val_acc: 0.3476\n",
            "Epoch 8/125\n",
            "10000/10000 [==============================] - 1s 138us/sample - loss: 2.0529 - acc: 0.2941\n",
            "391/391 [==============================] - 24s 62ms/step - loss: 1.8555 - acc: 0.3689 - val_loss: 2.0546 - val_acc: 0.2941\n",
            "Epoch 9/125\n",
            "10000/10000 [==============================] - 1s 141us/sample - loss: 2.4942 - acc: 0.2465\n",
            "391/391 [==============================] - 25s 63ms/step - loss: 1.8455 - acc: 0.3700 - val_loss: 2.4892 - val_acc: 0.2465\n",
            "Epoch 10/125\n",
            "10000/10000 [==============================] - 2s 151us/sample - loss: 1.8651 - acc: 0.3666\n",
            "391/391 [==============================] - 24s 62ms/step - loss: 1.8336 - acc: 0.3781 - val_loss: 1.8688 - val_acc: 0.3666\n",
            "Epoch 11/125\n",
            "10000/10000 [==============================] - 1s 133us/sample - loss: 1.7933 - acc: 0.3873\n",
            "391/391 [==============================] - 24s 61ms/step - loss: 1.8273 - acc: 0.3803 - val_loss: 1.7966 - val_acc: 0.3873\n",
            "Epoch 12/125\n",
            "10000/10000 [==============================] - 1s 133us/sample - loss: 1.9162 - acc: 0.3518\n",
            "391/391 [==============================] - 24s 61ms/step - loss: 1.8302 - acc: 0.3776 - val_loss: 1.9203 - val_acc: 0.3518\n",
            "Epoch 13/125\n",
            "10000/10000 [==============================] - 1s 134us/sample - loss: 1.8247 - acc: 0.3903\n",
            "391/391 [==============================] - 24s 61ms/step - loss: 1.8232 - acc: 0.3786 - val_loss: 1.8277 - val_acc: 0.3903\n",
            "Epoch 14/125\n",
            "10000/10000 [==============================] - 1s 141us/sample - loss: 1.8448 - acc: 0.3657\n",
            "391/391 [==============================] - 24s 61ms/step - loss: 1.8053 - acc: 0.3831 - val_loss: 1.8423 - val_acc: 0.3657\n",
            "Epoch 15/125\n",
            "10000/10000 [==============================] - 1s 144us/sample - loss: 1.7669 - acc: 0.4051\n",
            "391/391 [==============================] - 24s 62ms/step - loss: 1.8042 - acc: 0.3842 - val_loss: 1.7659 - val_acc: 0.4051\n",
            "Epoch 16/125\n",
            "10000/10000 [==============================] - 1s 136us/sample - loss: 1.8418 - acc: 0.3938\n",
            "391/391 [==============================] - 24s 61ms/step - loss: 1.7864 - acc: 0.3907 - val_loss: 1.8404 - val_acc: 0.3938\n",
            "Epoch 17/125\n",
            "10000/10000 [==============================] - 1s 132us/sample - loss: 1.6417 - acc: 0.4466\n",
            "391/391 [==============================] - 24s 61ms/step - loss: 1.7838 - acc: 0.3917 - val_loss: 1.6424 - val_acc: 0.4466\n",
            "Epoch 18/125\n",
            "10000/10000 [==============================] - 1s 128us/sample - loss: 1.8863 - acc: 0.3613\n",
            "391/391 [==============================] - 24s 61ms/step - loss: 1.7755 - acc: 0.3962 - val_loss: 1.8865 - val_acc: 0.3613\n",
            "Epoch 19/125\n",
            "10000/10000 [==============================] - 1s 133us/sample - loss: 1.8830 - acc: 0.3380\n",
            "391/391 [==============================] - 24s 61ms/step - loss: 1.7719 - acc: 0.3988 - val_loss: 1.8817 - val_acc: 0.3380\n",
            "Epoch 20/125\n",
            "10000/10000 [==============================] - 1s 147us/sample - loss: 1.9756 - acc: 0.3500\n",
            "391/391 [==============================] - 24s 61ms/step - loss: 1.7630 - acc: 0.3992 - val_loss: 1.9762 - val_acc: 0.3500\n",
            "Epoch 21/125\n",
            "10000/10000 [==============================] - 2s 151us/sample - loss: 1.7660 - acc: 0.4063\n",
            "391/391 [==============================] - 25s 63ms/step - loss: 1.7708 - acc: 0.3994 - val_loss: 1.7673 - val_acc: 0.4063\n",
            "Epoch 22/125\n",
            "10000/10000 [==============================] - 1s 131us/sample - loss: 1.7045 - acc: 0.4236\n",
            "391/391 [==============================] - 24s 62ms/step - loss: 1.7649 - acc: 0.3974 - val_loss: 1.7072 - val_acc: 0.4236\n",
            "Epoch 23/125\n",
            "10000/10000 [==============================] - 1s 137us/sample - loss: 1.6944 - acc: 0.4258\n",
            "391/391 [==============================] - 24s 61ms/step - loss: 1.7563 - acc: 0.4013 - val_loss: 1.6994 - val_acc: 0.4258\n",
            "Epoch 24/125\n",
            "10000/10000 [==============================] - 1s 135us/sample - loss: 1.7482 - acc: 0.4110\n",
            "391/391 [==============================] - 24s 61ms/step - loss: 1.7484 - acc: 0.4076 - val_loss: 1.7488 - val_acc: 0.4110\n",
            "Epoch 25/125\n",
            "10000/10000 [==============================] - 2s 152us/sample - loss: 1.7233 - acc: 0.4166\n",
            "391/391 [==============================] - 24s 62ms/step - loss: 1.7507 - acc: 0.4062 - val_loss: 1.7242 - val_acc: 0.4166\n",
            "Epoch 26/125\n",
            "10000/10000 [==============================] - 1s 150us/sample - loss: 1.6814 - acc: 0.4307\n",
            "391/391 [==============================] - 24s 62ms/step - loss: 1.7455 - acc: 0.4083 - val_loss: 1.6840 - val_acc: 0.4307\n",
            "Epoch 27/125\n",
            "10000/10000 [==============================] - 1s 143us/sample - loss: 1.6547 - acc: 0.4475\n",
            "391/391 [==============================] - 24s 62ms/step - loss: 1.7478 - acc: 0.4069 - val_loss: 1.6575 - val_acc: 0.4475\n",
            "Epoch 28/125\n",
            "10000/10000 [==============================] - 1s 132us/sample - loss: 1.6312 - acc: 0.4493\n",
            "391/391 [==============================] - 25s 63ms/step - loss: 1.7443 - acc: 0.4060 - val_loss: 1.6330 - val_acc: 0.4493\n",
            "Epoch 29/125\n",
            "10000/10000 [==============================] - 1s 135us/sample - loss: 1.5992 - acc: 0.4629\n",
            "391/391 [==============================] - 24s 62ms/step - loss: 1.7403 - acc: 0.4120 - val_loss: 1.6021 - val_acc: 0.4629\n",
            "Epoch 30/125\n",
            "10000/10000 [==============================] - 1s 141us/sample - loss: 1.6447 - acc: 0.4460\n",
            "391/391 [==============================] - 24s 62ms/step - loss: 1.7441 - acc: 0.4098 - val_loss: 1.6447 - val_acc: 0.4460\n",
            "Epoch 31/125\n",
            "10000/10000 [==============================] - 1s 136us/sample - loss: 1.7573 - acc: 0.4074\n",
            "391/391 [==============================] - 24s 61ms/step - loss: 1.7363 - acc: 0.4128 - val_loss: 1.7594 - val_acc: 0.4074\n",
            "Epoch 32/125\n",
            "10000/10000 [==============================] - 1s 137us/sample - loss: 1.6431 - acc: 0.4401\n",
            "391/391 [==============================] - 24s 61ms/step - loss: 1.7412 - acc: 0.4105 - val_loss: 1.6453 - val_acc: 0.4401\n",
            "Epoch 33/125\n",
            "10000/10000 [==============================] - 1s 130us/sample - loss: 1.6811 - acc: 0.4280\n",
            "391/391 [==============================] - 24s 62ms/step - loss: 1.7382 - acc: 0.4097 - val_loss: 1.6799 - val_acc: 0.4280\n",
            "Epoch 34/125\n",
            "10000/10000 [==============================] - 1s 145us/sample - loss: 1.5759 - acc: 0.4772\n",
            "391/391 [==============================] - 25s 65ms/step - loss: 1.7443 - acc: 0.4087 - val_loss: 1.5754 - val_acc: 0.4772\n",
            "Epoch 35/125\n",
            "10000/10000 [==============================] - 1s 138us/sample - loss: 1.5966 - acc: 0.4624\n",
            "391/391 [==============================] - 24s 61ms/step - loss: 1.7390 - acc: 0.4086 - val_loss: 1.5977 - val_acc: 0.4624\n",
            "Epoch 36/125\n",
            "10000/10000 [==============================] - 1s 136us/sample - loss: 1.5568 - acc: 0.4797\n",
            "391/391 [==============================] - 24s 61ms/step - loss: 1.7332 - acc: 0.4131 - val_loss: 1.5567 - val_acc: 0.4797\n",
            "Epoch 37/125\n",
            "10000/10000 [==============================] - 1s 139us/sample - loss: 1.7171 - acc: 0.4112\n",
            "391/391 [==============================] - 24s 61ms/step - loss: 1.7344 - acc: 0.4128 - val_loss: 1.7162 - val_acc: 0.4112\n",
            "Epoch 38/125\n",
            "10000/10000 [==============================] - 1s 138us/sample - loss: 1.7854 - acc: 0.3964\n",
            "391/391 [==============================] - 24s 61ms/step - loss: 1.7491 - acc: 0.4061 - val_loss: 1.7852 - val_acc: 0.3964\n",
            "Epoch 39/125\n",
            "10000/10000 [==============================] - 1s 129us/sample - loss: 1.8012 - acc: 0.3770\n",
            "391/391 [==============================] - 24s 61ms/step - loss: 1.7420 - acc: 0.4079 - val_loss: 1.8013 - val_acc: 0.3770\n",
            "Epoch 40/125\n",
            "10000/10000 [==============================] - 1s 143us/sample - loss: 1.7570 - acc: 0.4087\n",
            "391/391 [==============================] - 24s 61ms/step - loss: 1.7400 - acc: 0.4067 - val_loss: 1.7594 - val_acc: 0.4087\n",
            "Epoch 41/125\n",
            "10000/10000 [==============================] - 1s 134us/sample - loss: 1.7045 - acc: 0.4214\n",
            "391/391 [==============================] - 24s 62ms/step - loss: 1.7459 - acc: 0.4095 - val_loss: 1.7028 - val_acc: 0.4214\n",
            "Epoch 42/125\n",
            "10000/10000 [==============================] - 1s 141us/sample - loss: 1.6846 - acc: 0.4393\n",
            "391/391 [==============================] - 24s 61ms/step - loss: 1.7355 - acc: 0.4086 - val_loss: 1.6873 - val_acc: 0.4393\n",
            "Epoch 43/125\n",
            "10000/10000 [==============================] - 1s 133us/sample - loss: 1.6989 - acc: 0.4328\n",
            "391/391 [==============================] - 24s 61ms/step - loss: 1.7350 - acc: 0.4084 - val_loss: 1.6977 - val_acc: 0.4328\n",
            "Epoch 44/125\n",
            "10000/10000 [==============================] - 1s 137us/sample - loss: 1.8813 - acc: 0.3556\n",
            "391/391 [==============================] - 24s 61ms/step - loss: 1.7438 - acc: 0.4050 - val_loss: 1.8800 - val_acc: 0.3556\n",
            "Epoch 45/125\n",
            "10000/10000 [==============================] - 1s 136us/sample - loss: 1.5774 - acc: 0.4720\n",
            "391/391 [==============================] - 24s 61ms/step - loss: 1.7395 - acc: 0.4071 - val_loss: 1.5767 - val_acc: 0.4720\n",
            "Epoch 46/125\n",
            "10000/10000 [==============================] - 1s 132us/sample - loss: 1.7807 - acc: 0.3876\n",
            "391/391 [==============================] - 24s 61ms/step - loss: 1.7418 - acc: 0.4085 - val_loss: 1.7821 - val_acc: 0.3876\n",
            "Epoch 47/125\n",
            "10000/10000 [==============================] - 1s 140us/sample - loss: 1.6680 - acc: 0.4379\n",
            "391/391 [==============================] - 25s 64ms/step - loss: 1.7386 - acc: 0.4094 - val_loss: 1.6682 - val_acc: 0.4379\n",
            "Epoch 48/125\n",
            "10000/10000 [==============================] - 1s 138us/sample - loss: 1.6346 - acc: 0.4610\n",
            "391/391 [==============================] - 24s 61ms/step - loss: 1.7373 - acc: 0.4088 - val_loss: 1.6326 - val_acc: 0.4610\n",
            "Epoch 49/125\n",
            "10000/10000 [==============================] - 1s 131us/sample - loss: 1.5656 - acc: 0.4739\n",
            "391/391 [==============================] - 24s 61ms/step - loss: 1.7271 - acc: 0.4128 - val_loss: 1.5669 - val_acc: 0.4739\n",
            "Epoch 50/125\n",
            "10000/10000 [==============================] - 1s 133us/sample - loss: 1.6769 - acc: 0.4410\n",
            "391/391 [==============================] - 24s 61ms/step - loss: 1.7323 - acc: 0.4100 - val_loss: 1.6744 - val_acc: 0.4410\n",
            "Epoch 51/125\n",
            "10000/10000 [==============================] - 1s 135us/sample - loss: 1.5726 - acc: 0.4629\n",
            "391/391 [==============================] - 24s 61ms/step - loss: 1.7250 - acc: 0.4147 - val_loss: 1.5711 - val_acc: 0.4629\n",
            "Epoch 52/125\n",
            "10000/10000 [==============================] - 1s 135us/sample - loss: 1.9471 - acc: 0.3610\n",
            "391/391 [==============================] - 24s 61ms/step - loss: 1.7279 - acc: 0.4120 - val_loss: 1.9435 - val_acc: 0.3610\n",
            "Epoch 53/125\n",
            "10000/10000 [==============================] - 1s 147us/sample - loss: 1.6946 - acc: 0.4327\n",
            "391/391 [==============================] - 24s 62ms/step - loss: 1.7285 - acc: 0.4139 - val_loss: 1.7010 - val_acc: 0.4327\n",
            "Epoch 54/125\n",
            "10000/10000 [==============================] - 1s 136us/sample - loss: 1.6435 - acc: 0.4497\n",
            "391/391 [==============================] - 24s 62ms/step - loss: 1.7315 - acc: 0.4129 - val_loss: 1.6449 - val_acc: 0.4497\n",
            "Epoch 55/125\n",
            "10000/10000 [==============================] - 1s 139us/sample - loss: 1.6229 - acc: 0.4485\n",
            "391/391 [==============================] - 24s 61ms/step - loss: 1.7215 - acc: 0.4154 - val_loss: 1.6222 - val_acc: 0.4485\n",
            "Epoch 56/125\n",
            "10000/10000 [==============================] - 1s 137us/sample - loss: 1.7795 - acc: 0.4033\n",
            "391/391 [==============================] - 24s 61ms/step - loss: 1.7333 - acc: 0.4099 - val_loss: 1.7801 - val_acc: 0.4033\n",
            "Epoch 57/125\n",
            "10000/10000 [==============================] - 1s 142us/sample - loss: 1.5597 - acc: 0.4761\n",
            "391/391 [==============================] - 24s 62ms/step - loss: 1.7372 - acc: 0.4107 - val_loss: 1.5618 - val_acc: 0.4761\n",
            "Epoch 58/125\n",
            "10000/10000 [==============================] - 1s 136us/sample - loss: 1.6609 - acc: 0.4466\n",
            "391/391 [==============================] - 24s 61ms/step - loss: 1.7259 - acc: 0.4105 - val_loss: 1.6592 - val_acc: 0.4466\n",
            "Epoch 59/125\n",
            "10000/10000 [==============================] - 1s 131us/sample - loss: 1.5702 - acc: 0.4713\n",
            "391/391 [==============================] - 24s 61ms/step - loss: 1.7330 - acc: 0.4106 - val_loss: 1.5680 - val_acc: 0.4713\n",
            "Epoch 60/125\n",
            "10000/10000 [==============================] - 1s 132us/sample - loss: 1.5510 - acc: 0.4724\n",
            "391/391 [==============================] - 25s 64ms/step - loss: 1.7204 - acc: 0.4139 - val_loss: 1.5509 - val_acc: 0.4724\n",
            "Epoch 61/125\n",
            "10000/10000 [==============================] - 1s 135us/sample - loss: 1.6175 - acc: 0.4579\n",
            "391/391 [==============================] - 24s 61ms/step - loss: 1.7267 - acc: 0.4126 - val_loss: 1.6155 - val_acc: 0.4579\n",
            "Epoch 62/125\n",
            "10000/10000 [==============================] - 1s 141us/sample - loss: 1.5758 - acc: 0.4725\n",
            "391/391 [==============================] - 24s 61ms/step - loss: 1.7147 - acc: 0.4184 - val_loss: 1.5744 - val_acc: 0.4725\n",
            "Epoch 63/125\n",
            "10000/10000 [==============================] - 1s 142us/sample - loss: 1.5286 - acc: 0.4847\n",
            "391/391 [==============================] - 24s 62ms/step - loss: 1.7294 - acc: 0.4141 - val_loss: 1.5266 - val_acc: 0.4847\n",
            "Epoch 64/125\n",
            "10000/10000 [==============================] - 1s 130us/sample - loss: 1.5948 - acc: 0.4662\n",
            "391/391 [==============================] - 24s 61ms/step - loss: 1.7302 - acc: 0.4149 - val_loss: 1.5947 - val_acc: 0.4662\n",
            "Epoch 65/125\n",
            "10000/10000 [==============================] - 1s 138us/sample - loss: 1.5760 - acc: 0.4663\n",
            "391/391 [==============================] - 24s 61ms/step - loss: 1.7213 - acc: 0.4137 - val_loss: 1.5796 - val_acc: 0.4663\n",
            "Epoch 66/125\n",
            "10000/10000 [==============================] - 1s 141us/sample - loss: 1.5421 - acc: 0.4794\n",
            "391/391 [==============================] - 25s 63ms/step - loss: 1.7169 - acc: 0.4160 - val_loss: 1.5426 - val_acc: 0.4794\n",
            "Epoch 67/125\n",
            "10000/10000 [==============================] - 1s 148us/sample - loss: 1.6689 - acc: 0.4427\n",
            "391/391 [==============================] - 24s 62ms/step - loss: 1.7188 - acc: 0.4188 - val_loss: 1.6704 - val_acc: 0.4427\n",
            "Epoch 68/125\n",
            "10000/10000 [==============================] - 1s 132us/sample - loss: 1.6434 - acc: 0.4452\n",
            "391/391 [==============================] - 24s 62ms/step - loss: 1.7314 - acc: 0.4131 - val_loss: 1.6435 - val_acc: 0.4452\n",
            "Epoch 69/125\n",
            "10000/10000 [==============================] - 1s 148us/sample - loss: 1.6256 - acc: 0.4521\n",
            "391/391 [==============================] - 24s 61ms/step - loss: 1.7176 - acc: 0.4169 - val_loss: 1.6271 - val_acc: 0.4521\n",
            "Epoch 70/125\n",
            "10000/10000 [==============================] - 1s 134us/sample - loss: 1.5995 - acc: 0.4531\n",
            "391/391 [==============================] - 24s 61ms/step - loss: 1.7183 - acc: 0.4142 - val_loss: 1.5993 - val_acc: 0.4531\n",
            "Epoch 71/125\n",
            "10000/10000 [==============================] - 1s 141us/sample - loss: 1.5892 - acc: 0.4682\n",
            "391/391 [==============================] - 24s 62ms/step - loss: 1.7169 - acc: 0.4141 - val_loss: 1.5895 - val_acc: 0.4682\n",
            "Epoch 72/125\n",
            "10000/10000 [==============================] - 1s 135us/sample - loss: 1.5761 - acc: 0.4730\n",
            "391/391 [==============================] - 24s 61ms/step - loss: 1.7233 - acc: 0.4127 - val_loss: 1.5770 - val_acc: 0.4730\n",
            "Epoch 73/125\n",
            "10000/10000 [==============================] - 1s 141us/sample - loss: 1.6529 - acc: 0.4461\n",
            "391/391 [==============================] - 25s 65ms/step - loss: 1.7180 - acc: 0.4148 - val_loss: 1.6543 - val_acc: 0.4461\n",
            "Epoch 74/125\n",
            "10000/10000 [==============================] - 1s 138us/sample - loss: 1.7597 - acc: 0.4016\n",
            "391/391 [==============================] - 24s 61ms/step - loss: 1.7220 - acc: 0.4144 - val_loss: 1.7605 - val_acc: 0.4016\n",
            "Epoch 75/125\n",
            "10000/10000 [==============================] - 1s 144us/sample - loss: 1.6066 - acc: 0.4564\n",
            "391/391 [==============================] - 24s 61ms/step - loss: 1.7172 - acc: 0.4154 - val_loss: 1.6052 - val_acc: 0.4564\n",
            "Epoch 76/125\n",
            "10000/10000 [==============================] - 1s 137us/sample - loss: 1.5696 - acc: 0.4766\n",
            "391/391 [==============================] - 24s 61ms/step - loss: 1.7110 - acc: 0.4187 - val_loss: 1.5697 - val_acc: 0.4766\n",
            "Epoch 77/125\n",
            "10000/10000 [==============================] - 1s 141us/sample - loss: 1.4540 - acc: 0.5077\n",
            "391/391 [==============================] - 24s 61ms/step - loss: 1.6800 - acc: 0.4276 - val_loss: 1.4536 - val_acc: 0.5077\n",
            "Epoch 78/125\n",
            "10000/10000 [==============================] - 1s 146us/sample - loss: 1.4591 - acc: 0.5077\n",
            "391/391 [==============================] - 24s 62ms/step - loss: 1.6622 - acc: 0.4356 - val_loss: 1.4567 - val_acc: 0.5077\n",
            "Epoch 79/125\n",
            "10000/10000 [==============================] - 1s 142us/sample - loss: 1.5086 - acc: 0.4885\n",
            "391/391 [==============================] - 25s 63ms/step - loss: 1.6580 - acc: 0.4387 - val_loss: 1.5096 - val_acc: 0.4885\n",
            "Epoch 80/125\n",
            "10000/10000 [==============================] - 1s 145us/sample - loss: 1.5513 - acc: 0.4684\n",
            "391/391 [==============================] - 24s 61ms/step - loss: 1.6527 - acc: 0.4355 - val_loss: 1.5492 - val_acc: 0.4684\n",
            "Epoch 81/125\n",
            "10000/10000 [==============================] - 1s 137us/sample - loss: 1.4420 - acc: 0.5166\n",
            "391/391 [==============================] - 24s 61ms/step - loss: 1.6561 - acc: 0.4368 - val_loss: 1.4407 - val_acc: 0.5166\n",
            "Epoch 82/125\n",
            "10000/10000 [==============================] - 1s 138us/sample - loss: 1.4412 - acc: 0.5089\n",
            "391/391 [==============================] - 24s 61ms/step - loss: 1.6480 - acc: 0.4370 - val_loss: 1.4396 - val_acc: 0.5089\n",
            "Epoch 83/125\n",
            "10000/10000 [==============================] - 1s 134us/sample - loss: 1.4235 - acc: 0.5215\n",
            "391/391 [==============================] - 24s 61ms/step - loss: 1.6407 - acc: 0.4393 - val_loss: 1.4236 - val_acc: 0.5215\n",
            "Epoch 84/125\n",
            "10000/10000 [==============================] - 1s 134us/sample - loss: 1.4251 - acc: 0.5148\n",
            "391/391 [==============================] - 24s 61ms/step - loss: 1.6479 - acc: 0.4372 - val_loss: 1.4249 - val_acc: 0.5148\n",
            "Epoch 85/125\n",
            "10000/10000 [==============================] - 1s 141us/sample - loss: 1.4570 - acc: 0.5015\n",
            "391/391 [==============================] - 24s 61ms/step - loss: 1.6404 - acc: 0.4390 - val_loss: 1.4561 - val_acc: 0.5015\n",
            "Epoch 86/125\n",
            "10000/10000 [==============================] - 1s 137us/sample - loss: 1.4601 - acc: 0.5102\n",
            "391/391 [==============================] - 25s 64ms/step - loss: 1.6372 - acc: 0.4413 - val_loss: 1.4576 - val_acc: 0.5102\n",
            "Epoch 87/125\n",
            "10000/10000 [==============================] - 2s 158us/sample - loss: 1.4380 - acc: 0.5179\n",
            "391/391 [==============================] - 24s 62ms/step - loss: 1.6382 - acc: 0.4416 - val_loss: 1.4382 - val_acc: 0.5179\n",
            "Epoch 88/125\n",
            "10000/10000 [==============================] - 1s 142us/sample - loss: 1.4413 - acc: 0.5138\n",
            "391/391 [==============================] - 24s 62ms/step - loss: 1.6295 - acc: 0.4422 - val_loss: 1.4416 - val_acc: 0.5138\n",
            "Epoch 89/125\n",
            "10000/10000 [==============================] - 1s 142us/sample - loss: 1.4586 - acc: 0.5153\n",
            "391/391 [==============================] - 24s 62ms/step - loss: 1.6317 - acc: 0.4446 - val_loss: 1.4587 - val_acc: 0.5153\n",
            "Epoch 90/125\n",
            "10000/10000 [==============================] - 1s 147us/sample - loss: 1.4578 - acc: 0.5100\n",
            "391/391 [==============================] - 24s 61ms/step - loss: 1.6263 - acc: 0.4433 - val_loss: 1.4573 - val_acc: 0.5100\n",
            "Epoch 91/125\n",
            "10000/10000 [==============================] - 2s 150us/sample - loss: 1.5003 - acc: 0.4940\n",
            "391/391 [==============================] - 24s 62ms/step - loss: 1.6310 - acc: 0.4421 - val_loss: 1.4982 - val_acc: 0.4940\n",
            "Epoch 92/125\n",
            "10000/10000 [==============================] - 1s 129us/sample - loss: 1.4508 - acc: 0.5174\n",
            "391/391 [==============================] - 24s 62ms/step - loss: 1.6280 - acc: 0.4473 - val_loss: 1.4517 - val_acc: 0.5174\n",
            "Epoch 93/125\n",
            "10000/10000 [==============================] - 1s 134us/sample - loss: 1.4508 - acc: 0.5099\n",
            "391/391 [==============================] - 24s 61ms/step - loss: 1.6221 - acc: 0.4454 - val_loss: 1.4512 - val_acc: 0.5099\n",
            "Epoch 94/125\n",
            "10000/10000 [==============================] - 1s 136us/sample - loss: 1.4432 - acc: 0.5100\n",
            "391/391 [==============================] - 24s 61ms/step - loss: 1.6286 - acc: 0.4444 - val_loss: 1.4417 - val_acc: 0.5100\n",
            "Epoch 95/125\n",
            "10000/10000 [==============================] - 1s 132us/sample - loss: 1.4461 - acc: 0.5191\n",
            "391/391 [==============================] - 24s 61ms/step - loss: 1.6209 - acc: 0.4488 - val_loss: 1.4459 - val_acc: 0.5191\n",
            "Epoch 96/125\n",
            "10000/10000 [==============================] - 1s 136us/sample - loss: 1.4279 - acc: 0.5215\n",
            "391/391 [==============================] - 24s 61ms/step - loss: 1.6245 - acc: 0.4461 - val_loss: 1.4272 - val_acc: 0.5215\n",
            "Epoch 97/125\n",
            "10000/10000 [==============================] - 1s 135us/sample - loss: 1.4416 - acc: 0.5187\n",
            "391/391 [==============================] - 24s 61ms/step - loss: 1.6188 - acc: 0.4482 - val_loss: 1.4394 - val_acc: 0.5187\n",
            "Epoch 98/125\n",
            "10000/10000 [==============================] - 1s 135us/sample - loss: 1.4231 - acc: 0.5210\n",
            "391/391 [==============================] - 24s 61ms/step - loss: 1.6182 - acc: 0.4462 - val_loss: 1.4217 - val_acc: 0.5210\n",
            "Epoch 99/125\n",
            "10000/10000 [==============================] - 1s 148us/sample - loss: 1.4607 - acc: 0.5062\n",
            "391/391 [==============================] - 25s 65ms/step - loss: 1.6146 - acc: 0.4469 - val_loss: 1.4585 - val_acc: 0.5062\n",
            "Epoch 100/125\n",
            "10000/10000 [==============================] - 1s 142us/sample - loss: 1.4535 - acc: 0.5114\n",
            "391/391 [==============================] - 24s 61ms/step - loss: 1.6149 - acc: 0.4487 - val_loss: 1.4526 - val_acc: 0.5114\n",
            "Epoch 101/125\n",
            "10000/10000 [==============================] - 1s 137us/sample - loss: 1.4154 - acc: 0.5258\n",
            "391/391 [==============================] - 24s 61ms/step - loss: 1.6183 - acc: 0.4485 - val_loss: 1.4147 - val_acc: 0.5258\n",
            "Epoch 102/125\n",
            "10000/10000 [==============================] - 1s 141us/sample - loss: 1.4098 - acc: 0.5264\n",
            "391/391 [==============================] - 24s 61ms/step - loss: 1.5979 - acc: 0.4560 - val_loss: 1.4072 - val_acc: 0.5264\n",
            "Epoch 103/125\n",
            "10000/10000 [==============================] - 1s 138us/sample - loss: 1.3832 - acc: 0.5349\n",
            "391/391 [==============================] - 24s 61ms/step - loss: 1.5906 - acc: 0.4608 - val_loss: 1.3830 - val_acc: 0.5349\n",
            "Epoch 104/125\n",
            "10000/10000 [==============================] - 1s 140us/sample - loss: 1.3928 - acc: 0.5340\n",
            "391/391 [==============================] - 24s 63ms/step - loss: 1.5845 - acc: 0.4614 - val_loss: 1.3920 - val_acc: 0.5340\n",
            "Epoch 105/125\n",
            "10000/10000 [==============================] - 1s 140us/sample - loss: 1.3806 - acc: 0.5372\n",
            "391/391 [==============================] - 24s 61ms/step - loss: 1.5874 - acc: 0.4584 - val_loss: 1.3799 - val_acc: 0.5372\n",
            "Epoch 106/125\n",
            "10000/10000 [==============================] - 1s 143us/sample - loss: 1.3951 - acc: 0.5238\n",
            "391/391 [==============================] - 24s 61ms/step - loss: 1.5807 - acc: 0.4599 - val_loss: 1.3946 - val_acc: 0.5238\n",
            "Epoch 107/125\n",
            "10000/10000 [==============================] - 1s 140us/sample - loss: 1.3865 - acc: 0.5350\n",
            "391/391 [==============================] - 24s 61ms/step - loss: 1.5832 - acc: 0.4595 - val_loss: 1.3853 - val_acc: 0.5350\n",
            "Epoch 108/125\n",
            "10000/10000 [==============================] - 1s 134us/sample - loss: 1.3733 - acc: 0.5427\n",
            "391/391 [==============================] - 24s 61ms/step - loss: 1.5851 - acc: 0.4597 - val_loss: 1.3717 - val_acc: 0.5427\n",
            "Epoch 109/125\n",
            "10000/10000 [==============================] - 1s 145us/sample - loss: 1.3709 - acc: 0.5403\n",
            "391/391 [==============================] - 24s 61ms/step - loss: 1.5735 - acc: 0.4639 - val_loss: 1.3683 - val_acc: 0.5403\n",
            "Epoch 110/125\n",
            "10000/10000 [==============================] - 1s 139us/sample - loss: 1.3984 - acc: 0.5325\n",
            "391/391 [==============================] - 24s 61ms/step - loss: 1.5732 - acc: 0.4621 - val_loss: 1.3981 - val_acc: 0.5325\n",
            "Epoch 111/125\n",
            "10000/10000 [==============================] - 1s 140us/sample - loss: 1.3943 - acc: 0.5366\n",
            "391/391 [==============================] - 24s 61ms/step - loss: 1.5692 - acc: 0.4638 - val_loss: 1.3938 - val_acc: 0.5366\n",
            "Epoch 112/125\n",
            "10000/10000 [==============================] - 1s 137us/sample - loss: 1.3653 - acc: 0.5441\n",
            "391/391 [==============================] - 25s 65ms/step - loss: 1.5699 - acc: 0.4624 - val_loss: 1.3650 - val_acc: 0.5441\n",
            "Epoch 113/125\n",
            "10000/10000 [==============================] - 1s 143us/sample - loss: 1.4089 - acc: 0.5288\n",
            "391/391 [==============================] - 24s 61ms/step - loss: 1.5706 - acc: 0.4648 - val_loss: 1.4067 - val_acc: 0.5288\n",
            "Epoch 114/125\n",
            "10000/10000 [==============================] - 1s 136us/sample - loss: 1.3999 - acc: 0.5329\n",
            "391/391 [==============================] - 24s 61ms/step - loss: 1.5667 - acc: 0.4647 - val_loss: 1.3979 - val_acc: 0.5329\n",
            "Epoch 115/125\n",
            "10000/10000 [==============================] - 1s 131us/sample - loss: 1.3757 - acc: 0.5373\n",
            "391/391 [==============================] - 24s 61ms/step - loss: 1.5635 - acc: 0.4665 - val_loss: 1.3750 - val_acc: 0.5373\n",
            "Epoch 116/125\n",
            "10000/10000 [==============================] - 1s 142us/sample - loss: 1.3610 - acc: 0.5489\n",
            "391/391 [==============================] - 24s 61ms/step - loss: 1.5645 - acc: 0.4670 - val_loss: 1.3607 - val_acc: 0.5489\n",
            "Epoch 117/125\n",
            "10000/10000 [==============================] - 1s 142us/sample - loss: 1.3617 - acc: 0.5447\n",
            "391/391 [==============================] - 25s 63ms/step - loss: 1.5663 - acc: 0.4663 - val_loss: 1.3614 - val_acc: 0.5447\n",
            "Epoch 118/125\n",
            "10000/10000 [==============================] - 1s 144us/sample - loss: 1.3661 - acc: 0.5485\n",
            "391/391 [==============================] - 24s 61ms/step - loss: 1.5591 - acc: 0.4716 - val_loss: 1.3657 - val_acc: 0.5485\n",
            "Epoch 119/125\n",
            "10000/10000 [==============================] - 1s 140us/sample - loss: 1.4103 - acc: 0.5316\n",
            "391/391 [==============================] - 24s 61ms/step - loss: 1.5613 - acc: 0.4695 - val_loss: 1.4083 - val_acc: 0.5316\n",
            "Epoch 120/125\n",
            "10000/10000 [==============================] - 1s 143us/sample - loss: 1.3803 - acc: 0.5391\n",
            "391/391 [==============================] - 24s 62ms/step - loss: 1.5574 - acc: 0.4684 - val_loss: 1.3795 - val_acc: 0.5391\n",
            "Epoch 121/125\n",
            "10000/10000 [==============================] - 1s 139us/sample - loss: 1.4141 - acc: 0.5282\n",
            "391/391 [==============================] - 24s 61ms/step - loss: 1.5581 - acc: 0.4695 - val_loss: 1.4138 - val_acc: 0.5282\n",
            "Epoch 122/125\n",
            "10000/10000 [==============================] - 1s 148us/sample - loss: 1.3437 - acc: 0.5545\n",
            "391/391 [==============================] - 24s 61ms/step - loss: 1.5529 - acc: 0.4710 - val_loss: 1.3422 - val_acc: 0.5545\n",
            "Epoch 123/125\n",
            "10000/10000 [==============================] - 1s 140us/sample - loss: 1.4033 - acc: 0.5334\n",
            "391/391 [==============================] - 24s 62ms/step - loss: 1.5533 - acc: 0.4718 - val_loss: 1.4023 - val_acc: 0.5334\n",
            "Epoch 124/125\n",
            "10000/10000 [==============================] - 2s 158us/sample - loss: 1.3561 - acc: 0.5501\n",
            "391/391 [==============================] - 24s 62ms/step - loss: 1.5554 - acc: 0.4699 - val_loss: 1.3564 - val_acc: 0.5501\n",
            "Epoch 125/125\n",
            "10000/10000 [==============================] - 1s 142us/sample - loss: 1.3596 - acc: 0.5416\n",
            "391/391 [==============================] - 25s 65ms/step - loss: 1.5527 - acc: 0.4715 - val_loss: 1.3600 - val_acc: 0.5416\n"
          ],
          "name": "stdout"
        }
      ]
    },
    {
      "metadata": {
        "id": "8A5kL2kh81dg",
        "colab_type": "text"
      },
      "cell_type": "markdown",
      "source": [
        "10. Testing"
      ]
    },
    {
      "metadata": {
        "id": "l_VvKGfmmX-M",
        "colab_type": "code",
        "outputId": "586342f7-5f68-4ac4-d0d3-62aa5f386f9f",
        "colab": {
          "base_uri": "https://localhost:8080/",
          "height": 68
        }
      },
      "cell_type": "code",
      "source": [
        "\n",
        "\n",
        "scores = tpu_model.evaluate(x_test, y_test, batch_size=128, verbose=1)\n",
        "print(\"\\nTest result: %.3f loss: %.3f\" % (scores[1]*100,scores[0]))\n"
      ],
      "execution_count": 0,
      "outputs": [
        {
          "output_type": "stream",
          "text": [
            "10000/10000 [==============================] - 1s 110us/sample - loss: 1.3596 - acc: 0.5416\n",
            "\n",
            "Test result: 54.160 loss: 1.360\n"
          ],
          "name": "stdout"
        }
      ]
    }
  ]
}